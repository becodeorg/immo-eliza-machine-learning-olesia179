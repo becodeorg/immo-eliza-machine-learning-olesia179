{
 "cells": [
  {
   "cell_type": "code",
   "execution_count": 1,
   "id": "b7f9b9c0",
   "metadata": {},
   "outputs": [],
   "source": [
    "from cleaner.cleaner import Cleaner\n",
    "from sklearn.preprocessing import OneHotEncoder, OrdinalEncoder, TargetEncoder\n",
    "from sklearn.compose import ColumnTransformer\n",
    "from sklearn.model_selection import cross_validate\n",
    "from sklearn.pipeline import make_pipeline\n",
    "from sklearn.ensemble import HistGradientBoostingRegressor, RandomForestRegressor\n",
    "from sklearn.metrics import mean_absolute_percentage_error"
   ]
  },
  {
   "cell_type": "code",
   "execution_count": 2,
   "id": "3cbf6438",
   "metadata": {},
   "outputs": [],
   "source": [
    "df = Cleaner.clean_data()"
   ]
  },
  {
   "cell_type": "code",
   "execution_count": null,
   "id": "8981bd20",
   "metadata": {},
   "outputs": [],
   "source": [
    "numerical_features = [\"bedroomCount\", \"habitableSurface\", \"facedeCount\", \"streetFacadeWidth\", \"kitchenSurface\", \"landSurface\", \n",
    "                      \"terraceSurface\", \"gardenSurface\", \"toiletCount\", \"bathroomCount\"]\n",
    "categorical_features = [\n",
    "    \"type\",\n",
    "    \"subtype\",\n",
    "    \"province\",\n",
    "    \"locality\",\n",
    "    \"postCode\",\n",
    "    \"hasBasement\",\n",
    "    \"buildingCondition\",\n",
    "    \"buildingConstructionYear\",\n",
    "    \"hasTerrace\",\n",
    "    \"floodZoneType\",\n",
    "    \"heatingType\",\n",
    "    \"kitchenType\",\n",
    "    \"gardenOrientation\",\n",
    "    \"hasSwimmingPool\",\n",
    "    \n",
    "    \"terraceOrientation\",\n",
    "    \"epcScore\"\n",
    "]\n",
    "target_name = \"price\"\n",
    "\n",
    "X = df[numerical_features + categorical_features]\n",
    "y = df[target_name]\n",
    "\n",
    "_ = y.hist()"
   ]
  },
  {
   "cell_type": "code",
   "execution_count": null,
   "id": "98e5305a",
   "metadata": {},
   "outputs": [],
   "source": [
    "categorical_preprocessors = [\n",
    "    (\"drop\", \"drop\"),\n",
    "    (\"ordinal\", OrdinalEncoder(handle_unknown=\"use_encoded_value\", unknown_value=-1)),\n",
    "    (\n",
    "        \"one_hot\",\n",
    "        OneHotEncoder(handle_unknown=\"ignore\", max_categories=20, sparse_output=False),\n",
    "    ),\n",
    "    (\"target\", TargetEncoder(target_type=\"continuous\")),\n",
    "]"
   ]
  },
  {
   "cell_type": "code",
   "execution_count": null,
   "id": "6c5fa542",
   "metadata": {},
   "outputs": [],
   "source": [
    "n_cv_folds = 3\n",
    "max_iter = 20\n",
    "results = []\n",
    "\n",
    "def evaluate_model_and_store(name, pipe):\n",
    "    result = cross_validate(\n",
    "        pipe,\n",
    "        X,\n",
    "        y,\n",
    "        scoring=\"neg_root_mean_squared_error\",\n",
    "        cv=n_cv_folds,\n",
    "        return_train_score=True,\n",
    "    )\n",
    "    rmse_test_score = -result[\"test_score\"]\n",
    "    rmse_train_score = -result[\"train_score\"]\n",
    "    results.append(\n",
    "        {\n",
    "            \"preprocessor\": name,\n",
    "            \"rmse_test_mean\": rmse_test_score.mean(),\n",
    "            \"rmse_test_std\": rmse_test_score.std(),\n",
    "            \"rmse_train_mean\": rmse_train_score.mean(),\n",
    "            \"rmse_train_std\": rmse_train_score.std(),\n",
    "        }\n",
    "    )\n",
    "\n",
    "# for name, categorical_preprocessor in categorical_preprocessors:\n",
    "#     preprocessor = ColumnTransformer(\n",
    "#         [\n",
    "#             (\"numerical\", \"passthrough\", numerical_features),\n",
    "#             (\"categorical\", categorical_preprocessor, categorical_features),\n",
    "#         ]\n",
    "#     )\n",
    "#     pipe = make_pipeline(\n",
    "#         preprocessor, HistGradientBoostingRegressor(random_state=0, max_iter=max_iter)\n",
    "#     )\n",
    "#     evaluate_model_and_store(name, pipe)"
   ]
  },
  {
   "cell_type": "code",
   "execution_count": null,
   "id": "3806a3c4",
   "metadata": {},
   "outputs": [],
   "source": [
    "print(results)"
   ]
  },
  {
   "cell_type": "code",
   "execution_count": null,
   "id": "ad30cc6d",
   "metadata": {},
   "outputs": [],
   "source": [
    "n_unique_categories = df[categorical_features].nunique().sort_values(ascending=False)\n",
    "n_unique_categories\n",
    "\n",
    "high_cardinality_features = n_unique_categories[n_unique_categories > 255].index\n",
    "low_cardinality_features = n_unique_categories[n_unique_categories <= 255].index\n",
    "high_cardinality_features, low_cardinality_features"
   ]
  },
  {
   "cell_type": "code",
   "execution_count": null,
   "id": "0b3e07ff",
   "metadata": {},
   "outputs": [],
   "source": [
    "mixed_encoded_preprocessor = ColumnTransformer(\n",
    "    [\n",
    "        (\"numerical\", \"passthrough\", numerical_features),\n",
    "        (\n",
    "            \"high_cardinality\",\n",
    "            TargetEncoder(target_type=\"continuous\"),\n",
    "            high_cardinality_features,\n",
    "        ),\n",
    "        (\n",
    "            \"low_cardinality\",\n",
    "            OrdinalEncoder(handle_unknown=\"use_encoded_value\", unknown_value=-1),\n",
    "            low_cardinality_features,\n",
    "        ),\n",
    "    ],\n",
    "    verbose_feature_names_out=False,\n",
    ")\n",
    "\n",
    "# The output of the of the preprocessor must be set to pandas so the\n",
    "# gradient boosting model can detect the low cardinality features.\n",
    "mixed_encoded_preprocessor.set_output(transform = \"pandas\")\n",
    "mixed_pipe = make_pipeline(\n",
    "    mixed_encoded_preprocessor,\n",
    "    HistGradientBoostingRegressor(\n",
    "        random_state=0, max_iter=max_iter, categorical_features=low_cardinality_features\n",
    "    ),\n",
    ")\n",
    "mixed_pipe"
   ]
  },
  {
   "cell_type": "code",
   "execution_count": null,
   "id": "87e48520",
   "metadata": {},
   "outputs": [],
   "source": [
    "evaluate_model_and_store(\"mixed_target\", mixed_pipe)"
   ]
  },
  {
   "cell_type": "code",
   "execution_count": null,
   "id": "a16fa825",
   "metadata": {},
   "outputs": [],
   "source": [
    "import matplotlib.pyplot as plt\n",
    "import pandas as pd\n",
    "\n",
    "results_df = (\n",
    "    pd.DataFrame(results).set_index(\"preprocessor\").sort_values(\"rmse_test_mean\")\n",
    ")\n",
    "\n",
    "fig, (ax1, ax2) = plt.subplots(\n",
    "    1, 2, figsize=(12, 8), sharey=True, constrained_layout=True\n",
    ")\n",
    "xticks = range(len(results_df))\n",
    "name_to_color = dict(\n",
    "    zip((r[\"preprocessor\"] for r in results), [\"C0\", \"C1\", \"C2\", \"C3\", \"C4\", \"C5\"])\n",
    ")\n",
    "\n",
    "for subset, ax in zip([\"test\", \"train\"], [ax1, ax2]):\n",
    "    mean, std = f\"rmse_{subset}_mean\", f\"rmse_{subset}_std\"\n",
    "    data = results_df[[mean, std]].sort_values(mean)\n",
    "    ax.bar(\n",
    "        x=xticks,\n",
    "        height=data[mean],\n",
    "        yerr=data[std],\n",
    "        width=0.9,\n",
    "        color=[name_to_color[name] for name in data.index],\n",
    "    )\n",
    "    ax.set(\n",
    "        title=f\"RMSE ({subset.title()})\",\n",
    "        xlabel=\"Encoding Scheme\",\n",
    "        xticks=xticks,\n",
    "        xticklabels=data.index,\n",
    "    )"
   ]
  },
  {
   "cell_type": "code",
   "execution_count": null,
   "id": "e41e08b2",
   "metadata": {},
   "outputs": [],
   "source": [
    "import joblib\n",
    "\n",
    "N_CORES = joblib.cpu_count(only_physical_cores=True)\n",
    "print(f\"Number of physical cores: {N_CORES}\")"
   ]
  }
 ],
 "metadata": {
  "kernelspec": {
   "display_name": "Python 3",
   "language": "python",
   "name": "python3"
  },
  "language_info": {
   "codemirror_mode": {
    "name": "ipython",
    "version": 3
   },
   "file_extension": ".py",
   "mimetype": "text/x-python",
   "name": "python",
   "nbconvert_exporter": "python",
   "pygments_lexer": "ipython3",
   "version": "3.13.2"
  }
 },
 "nbformat": 4,
 "nbformat_minor": 5
}
